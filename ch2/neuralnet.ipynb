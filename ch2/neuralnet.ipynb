{
 "cells": [
  {
   "cell_type": "code",
   "execution_count": 1,
   "metadata": {},
   "outputs": [],
   "source": [
    "# building a neural network using Pytorch\n"
   ]
  },
  {
   "cell_type": "code",
   "execution_count": 2,
   "metadata": {},
   "outputs": [],
   "source": [
    "import torch\n",
    "#input x and output y\n",
    "x=[[1,2],[3,4],[5,6],[7,8]]\n",
    "y=[[3],[7],[11],[15]]\n"
   ]
  },
  {
   "cell_type": "code",
   "execution_count": 3,
   "metadata": {},
   "outputs": [],
   "source": [
    "#convert to float and tensor\n",
    "x=torch.tensor(x).float()\n",
    "y=torch.tensor(y).float()"
   ]
  },
  {
   "cell_type": "code",
   "execution_count": 4,
   "metadata": {},
   "outputs": [],
   "source": [
    "device=\"cuda\" if torch.cuda.is_available() else \"cpu\""
   ]
  },
  {
   "cell_type": "code",
   "execution_count": 5,
   "metadata": {},
   "outputs": [],
   "source": [
    "x=x.to(device)\n",
    "y=y.to(device)"
   ]
  },
  {
   "cell_type": "code",
   "execution_count": 6,
   "metadata": {},
   "outputs": [],
   "source": [
    "# define neural arch\n",
    "import torch.nn as nn\n"
   ]
  },
  {
   "cell_type": "code",
   "execution_count": 7,
   "metadata": {},
   "outputs": [],
   "source": [
    "class MyNeuralNet(nn.Module):\n",
    "    def __init__(self):\n",
    "        super().__init__() #to ensure class inherits nn.Module\n",
    "\n",
    "        #define layers\n",
    "        self.input_to_hidden=nn.Linear(2,8)\n",
    "        self.hidden_layer_activation=nn.ReLU()\n",
    "        self.hidden_to_output=nn.Linear(8,1)\n",
    "\n",
    "    #connect the layers\n",
    "    def forward(self,x):\n",
    "        x=self.input_to_hidden(x)\n",
    "        x=self.hidden_layer_activation(x)\n",
    "        x=self.hidden_to_output(x)\n",
    "        return x\n"
   ]
  },
  {
   "cell_type": "code",
   "execution_count": 8,
   "metadata": {},
   "outputs": [],
   "source": [
    "torch.manual_seed(42)\n",
    "#let us inspect weights\n",
    "#create instance of MyNeuralNet register it to device\n",
    "mynet=MyNeuralNet().to(device)"
   ]
  },
  {
   "cell_type": "code",
   "execution_count": 9,
   "metadata": {},
   "outputs": [
    {
     "data": {
      "text/plain": [
       "Parameter containing:\n",
       "tensor([[ 0.5406,  0.5869],\n",
       "        [-0.1657,  0.6496],\n",
       "        [-0.1549,  0.1427],\n",
       "        [-0.3443,  0.4153],\n",
       "        [ 0.6233, -0.5188],\n",
       "        [ 0.6146,  0.1323],\n",
       "        [ 0.5224,  0.0958],\n",
       "        [ 0.3410, -0.0998]], requires_grad=True)"
      ]
     },
     "execution_count": 9,
     "metadata": {},
     "output_type": "execute_result"
    }
   ],
   "source": [
    "mynet.input_to_hidden.weight"
   ]
  },
  {
   "cell_type": "code",
   "execution_count": 10,
   "metadata": {},
   "outputs": [
    {
     "data": {
      "text/plain": [
       "<generator object Module.parameters at 0x000002A2CCE77E60>"
      ]
     },
     "execution_count": 10,
     "metadata": {},
     "output_type": "execute_result"
    }
   ],
   "source": [
    "#getting all params\n",
    "mynet.parameters()"
   ]
  },
  {
   "cell_type": "code",
   "execution_count": 11,
   "metadata": {},
   "outputs": [
    {
     "name": "stdout",
     "output_type": "stream",
     "text": [
      "Parameter containing:\n",
      "tensor([[ 0.5406,  0.5869],\n",
      "        [-0.1657,  0.6496],\n",
      "        [-0.1549,  0.1427],\n",
      "        [-0.3443,  0.4153],\n",
      "        [ 0.6233, -0.5188],\n",
      "        [ 0.6146,  0.1323],\n",
      "        [ 0.5224,  0.0958],\n",
      "        [ 0.3410, -0.0998]], requires_grad=True)\n",
      "Parameter containing:\n",
      "tensor([ 0.5451,  0.1045, -0.3301,  0.1802, -0.3258, -0.0829, -0.2872,  0.4691],\n",
      "       requires_grad=True)\n",
      "Parameter containing:\n",
      "tensor([[-0.2791, -0.1630, -0.0998, -0.2126,  0.0334, -0.3492,  0.3193, -0.3003]],\n",
      "       requires_grad=True)\n",
      "Parameter containing:\n",
      "tensor([0.2730], requires_grad=True)\n"
     ]
    }
   ],
   "source": [
    "#looping generator object\n",
    "for par in mynet.parameters():\n",
    "    print(par)"
   ]
  },
  {
   "cell_type": "code",
   "execution_count": null,
   "metadata": {},
   "outputs": [],
   "source": []
  },
  {
   "cell_type": "code",
   "execution_count": 12,
   "metadata": {},
   "outputs": [],
   "source": [
    "#You can also manually register these parameters\n",
    "#using the nn.Parameter(<tensor>) function. Hence, the following code is equivalent to the neural network class that we defined previously.\n",
    "class MyNeuralNet2(nn.Module):\n",
    "    def __init__(self):\n",
    "        super().__init__()\n",
    "        self.input_to_hidden_layer = nn.Parameter(torch.rand(2,8))\n",
    "        self.hidden_layer_activation = nn.ReLU()\n",
    "        self.hidden_to_output_layer = nn.Parameter(torch.rand(8,1))\n",
    "    def forward(self, x):\n",
    "        x = x @ self.input_to_hidden_layer\n",
    "        x = self.hidden_layer_activation(x)\n",
    "        x = x @ self.hidden_to_output_layer\n",
    "        return x"
   ]
  },
  {
   "cell_type": "code",
   "execution_count": 13,
   "metadata": {},
   "outputs": [],
   "source": [
    "#define loss function\n",
    "loss_func=nn.MSELoss()"
   ]
  },
  {
   "cell_type": "code",
   "execution_count": 14,
   "metadata": {},
   "outputs": [
    {
     "name": "stdout",
     "output_type": "stream",
     "text": [
      "tensor(168.3231, grad_fn=<MseLossBackward0>)\n"
     ]
    }
   ],
   "source": [
    "#calculating loss\n",
    "output=mynet(x)\n",
    "loss_value=loss_func(output,y)\n",
    "print(loss_value)\n",
    "#pred first than true value\n"
   ]
  },
  {
   "cell_type": "code",
   "execution_count": 15,
   "metadata": {},
   "outputs": [],
   "source": [
    "#define optimizers\n",
    "#it takes model params and lr\n",
    "#sgd\n",
    "opt=torch.optim.SGD(mynet.parameters(),lr=0.01)\n"
   ]
  },
  {
   "cell_type": "code",
   "execution_count": 16,
   "metadata": {},
   "outputs": [],
   "source": [
    "#perform all the steps to be done in an epoch together\n",
    "# opt.zero_grad() #flush prev gradients\n",
    "# loss_value=loss_func(mynet(x))\n",
    "# loss_value.backward()\n",
    "# opt.step()\n"
   ]
  },
  {
   "cell_type": "code",
   "execution_count": 17,
   "metadata": {},
   "outputs": [],
   "source": [
    "loss_history=[]\n",
    "for _ in range(500):\n",
    "    opt.zero_grad()\n",
    "    loss_value=loss_func(mynet(x),y)\n",
    "\n",
    "    loss_value.backward()\n",
    "    opt.step()\n",
    "    loss_history.append(loss_value.item())"
   ]
  },
  {
   "cell_type": "code",
   "execution_count": 18,
   "metadata": {},
   "outputs": [
    {
     "data": {
      "text/plain": [
       "[<matplotlib.lines.Line2D at 0x2a2d1c22f00>]"
      ]
     },
     "execution_count": 18,
     "metadata": {},
     "output_type": "execute_result"
    },
    {
     "data": {
      "image/png": "[encoded data removed]",
      "text/plain": [
       "<Figure size 640x480 with 1 Axes>"
      ]
     },
     "metadata": {},
     "output_type": "display_data"
    }
   ],
   "source": [
    "# plot loss value with increasing epoch\n",
    "import matplotlib.pyplot as plt\n",
    "plt.plot(loss_history)"
   ]
  },
  {
   "cell_type": "code",
   "execution_count": 19,
   "metadata": {},
   "outputs": [],
   "source": [
    "#Note that, as expected, the loss value decreases over increasing epochs\n"
   ]
  },
  {
   "cell_type": "code",
   "execution_count": 20,
   "metadata": {},
   "outputs": [
    {
     "data": {
      "text/plain": [
       "Linear(in_features=10, out_features=12, bias=True)"
      ]
     },
     "execution_count": 20,
     "metadata": {},
     "output_type": "execute_result"
    }
   ],
   "source": [
    "nn.Linear(in_features=10,out_features=12,bias=True)"
   ]
  },
  {
   "cell_type": "code",
   "execution_count": 21,
   "metadata": {},
   "outputs": [],
   "source": [
    "#using all datapoints"
   ]
  },
  {
   "cell_type": "code",
   "execution_count": 22,
   "metadata": {},
   "outputs": [],
   "source": [
    "x = torch.tensor([[1,2],[3,4],[5,6],[7,8]]).float()\n",
    "y = torch.tensor([[3],[7],[11],[15]]).float()"
   ]
  },
  {
   "cell_type": "code",
   "execution_count": 23,
   "metadata": {},
   "outputs": [],
   "source": [
    "from torch.utils.data import DataLoader"
   ]
  },
  {
   "cell_type": "code",
   "execution_count": 24,
   "metadata": {},
   "outputs": [],
   "source": [
    "from dataset import MyDataset\n",
    "\n",
    "ds=MyDataset(x,y)\n",
    "dl=DataLoader(ds,batch_size=2,shuffle=True)\n",
    "\n"
   ]
  },
  {
   "cell_type": "code",
   "execution_count": 25,
   "metadata": {},
   "outputs": [
    {
     "name": "stdout",
     "output_type": "stream",
     "text": [
      "tensor([[3., 4.],\n",
      "        [1., 2.]]) tensor([[7.],\n",
      "        [3.]])\n",
      "tensor([[5., 6.],\n",
      "        [7., 8.]]) tensor([[11.],\n",
      "        [15.]])\n"
     ]
    }
   ],
   "source": [
    "for a in dl:\n",
    "    c,d=a\n",
    "    print(c,d)"
   ]
  },
  {
   "cell_type": "code",
   "execution_count": 26,
   "metadata": {},
   "outputs": [],
   "source": [
    "import torch.nn as nn"
   ]
  },
  {
   "cell_type": "code",
   "execution_count": 27,
   "metadata": {},
   "outputs": [],
   "source": [
    "class MyNeuralNet(nn.Module):\n",
    "    def __init__(self):\n",
    "        super().__init__() #to ensure class inherits nn.Module\n",
    "\n",
    "        #define layers\n",
    "        self.input_to_hidden=nn.Linear(2,8)\n",
    "        self.hidden_layer_activation=nn.ReLU()\n",
    "        self.hidden_to_output=nn.Linear(8,1)\n",
    "\n",
    "    #connect the layers\n",
    "    def forward(self,x):\n",
    "        x=self.input_to_hidden(x)\n",
    "        x=self.hidden_layer_activation(x)\n",
    "        x=self.hidden_to_output(x)\n",
    "        return x"
   ]
  },
  {
   "cell_type": "code",
   "execution_count": 28,
   "metadata": {},
   "outputs": [],
   "source": [
    "import torch"
   ]
  },
  {
   "cell_type": "code",
   "execution_count": 29,
   "metadata": {},
   "outputs": [],
   "source": [
    "mynet=MyNeuralNet().to(device='cpu')\n",
    "loss_func=nn.MSELoss()\n",
    "opt=torch.optim.SGD(mynet.parameters(),lr=0.01)"
   ]
  },
  {
   "cell_type": "code",
   "execution_count": 30,
   "metadata": {},
   "outputs": [],
   "source": [
    "loss_history=[]\n",
    "for e in range(500):\n",
    "    for a,b in dl:\n",
    "        \n",
    "        opt.zero_grad()\n",
    "        loss_val=loss_func(mynet(a),b)\n",
    "        loss_val.backward()\n",
    "        opt.step()\n",
    "        loss_history.append(loss_val.item())\n",
    "        \n",
    "\n"
   ]
  },
  {
   "cell_type": "code",
   "execution_count": 31,
   "metadata": {},
   "outputs": [
    {
     "data": {
      "text/plain": [
       "[<matplotlib.lines.Line2D at 0x2a2d1c7a000>]"
      ]
     },
     "execution_count": 31,
     "metadata": {},
     "output_type": "execute_result"
    },
    {
     "data": {
      "image/png": "[encoded data removed]",
      "text/plain": [
       "<Figure size 640x480 with 1 Axes>"
      ]
     },
     "metadata": {},
     "output_type": "display_data"
    }
   ],
   "source": [
    "import matplotlib.pyplot as plt\n",
    "plt.plot(loss_history)"
   ]
  },
  {
   "cell_type": "code",
   "execution_count": 32,
   "metadata": {},
   "outputs": [],
   "source": [
    "# predicting on new data points\n",
    "val_x=[[10,11]]"
   ]
  },
  {
   "cell_type": "code",
   "execution_count": 33,
   "metadata": {},
   "outputs": [
    {
     "data": {
      "text/plain": [
       "tensor([[9.0041]], grad_fn=<AddmmBackward0>)"
      ]
     },
     "execution_count": 33,
     "metadata": {},
     "output_type": "execute_result"
    }
   ],
   "source": [
    "mynet(torch.tensor(val_x).float())"
   ]
  },
  {
   "cell_type": "code",
   "execution_count": 34,
   "metadata": {},
   "outputs": [
    {
     "data": {
      "text/plain": [
       "OrderedDict([('input_to_hidden.weight',\n",
       "              tensor([[-0.3912, -0.3579],\n",
       "                      [-0.6285, -0.3928],\n",
       "                      [-0.1807, -0.4035],\n",
       "                      [-0.2421, -0.5283],\n",
       "                      [-1.0336, -1.1534],\n",
       "                      [-0.6657,  0.1642],\n",
       "                      [-0.6586, -1.2196],\n",
       "                      [-0.7868, -0.2530]])),\n",
       "             ('input_to_hidden.bias',\n",
       "              tensor([ 0.3716,  0.0715, -0.1243, -0.1872, -0.3393, -0.1249, -0.5346,  0.3650])),\n",
       "             ('hidden_to_output.weight',\n",
       "              tensor([[ 0.3038, -1.4672, -0.0792,  0.0052, -2.9225,  0.0850, -1.8540,  0.0967]])),\n",
       "             ('hidden_to_output.bias', tensor([9.0041]))])"
      ]
     },
     "execution_count": 34,
     "metadata": {},
     "output_type": "execute_result"
    }
   ],
   "source": [
    "mynet.state_dict()"
   ]
  },
  {
   "cell_type": "code",
   "execution_count": 35,
   "metadata": {},
   "outputs": [],
   "source": [
    "torch.save(mynet.state_dict(),'mynet.pth')"
   ]
  },
  {
   "cell_type": "code",
   "execution_count": null,
   "metadata": {},
   "outputs": [],
   "source": [
    "#implementing a new loss\n"
   ]
  }
 ],
 "metadata": {
  "kernelspec": {
   "display_name": "Python 3",
   "language": "python",
   "name": "python3"
  },
  "language_info": {
   "codemirror_mode": {
    "name": "ipython",
    "version": 3
   },
   "file_extension": ".py",
   "mimetype": "text/x-python",
   "name": "python",
   "nbconvert_exporter": "python",
   "pygments_lexer": "ipython3",
   "version": "3.12.0"
  }
 },
 "nbformat": 4,
 "nbformat_minor": 2
}
