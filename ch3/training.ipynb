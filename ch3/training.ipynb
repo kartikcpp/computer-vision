{
 "cells": [
  {
   "cell_type": "code",
   "execution_count": 1,
   "metadata": {},
   "outputs": [],
   "source": [
    "from torch.utils.data import Dataset , DataLoader\n",
    "import torch\n",
    "import torch.nn as nn\n",
    "import numpy as np\n",
    "import matplotlib.pyplot as plt\n",
    "from torchvision import datasets\n",
    "data_folder='~/data/FMNIST'\n",
    "fmnist=datasets.FashionMNIST(data_folder,download=True,train=True)"
   ]
  },
  {
   "cell_type": "code",
   "execution_count": 2,
   "metadata": {},
   "outputs": [],
   "source": [
    "tr_images=fmnist.data\n",
    "tr_targets=fmnist.targets"
   ]
  },
  {
   "cell_type": "code",
   "execution_count": null,
   "metadata": {},
   "outputs": [],
   "source": [
    "class FMNISTDataset(Dataset):\n",
    "    def __init__(self,x,y):\n",
    "        x=torch.tensor(x).float()\n",
    "        x=x.view(-1,28*28)\n",
    "        self.x=x\n",
    "        self.y=y\n",
    "    def __len__(self):\n",
    "        return len(self.x)\n",
    "        \n",
    "    def __getitem__(self, index):\n",
    "        return self.x[index],self.y[index]\n",
    "    \n"
   ]
  },
  {
   "cell_type": "code",
   "execution_count": 3,
   "metadata": {},
   "outputs": [],
   "source": [
    "#create a function\n",
    "def get_data(tr_images,tr_targets):\n",
    "    ds=FMNISTDataset(tr_images,tr_targets)\n",
    "    dl=DataLoader(ds,batch_size=32,shuffle=True)\n",
    "    return dl\n"
   ]
  },
  {
   "cell_type": "code",
   "execution_count": 5,
   "metadata": {},
   "outputs": [],
   "source": [
    "from torch.optim import SGD\n",
    "\n",
    "model=nn.Sequential(\n",
    "    nn.Linear(784,1000),\n",
    "    nn.ReLU(),\n",
    "    nn.Linear(1000,10)\n",
    ")\n",
    "loss_fn=nn.CrossEntropyLoss()\n",
    "optimizer=torch.optim.SGD(model.parameters(),lr=1e-2)\n"
   ]
  },
  {
   "cell_type": "code",
   "execution_count": null,
   "metadata": {},
   "outputs": [],
   "source": [
    "# Note that we are not using “softmax” in the neural network at all. The range\n",
    "# of outputs is unconstrained, in that values can have an infinite range, whereas\n",
    "# cross-entropy loss typically expects outputs as probabilities (each row should\n",
    "# sum to 1). Unconstrained values in output still work in this setting because\n",
    "# nn.CrossEntropyLoss actually expects us to send the raw logits (that is, unconstrained values). It performs softmax internally."
   ]
  }
 ],
 "metadata": {
  "kernelspec": {
   "display_name": "Python 3",
   "language": "python",
   "name": "python3"
  },
  "language_info": {
   "codemirror_mode": {
    "name": "ipython",
    "version": 3
   },
   "file_extension": ".py",
   "mimetype": "text/x-python",
   "name": "python",
   "nbconvert_exporter": "python",
   "pygments_lexer": "ipython3",
   "version": "3.12.0"
  }
 },
 "nbformat": 4,
 "nbformat_minor": 2
}
